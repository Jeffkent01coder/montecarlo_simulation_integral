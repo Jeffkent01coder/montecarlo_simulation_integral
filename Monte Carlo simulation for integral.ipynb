{
 "cells": [
  {
   "cell_type": "markdown",
   "metadata": {},
   "source": [
    "# Monte Carlo simulation\n",
    "**Monte Carlo methods, or Monte Carlo experiments,** are a broad class of computational algorithms that rely on repeated random sampling to obtain numerical results. The underlying concept is to use randomness to solve problems that might be deterministic in principle. [wikipedia](https://en.wikipedia.org/wiki/Monte_Carlo_method)\n",
    "\n",
    "We simulate the area of $sin(x)$ from $0$ to $\\pi$ that is given by $\\int_{o}^{\\pi} sin(x) = -cos(x) \\Big|_0^{\\pi} = 2 $ <br>\n",
    "<br>\n",
    "We can approximate the area with the formula $ (b-a) \\frac{1}{N} \\sum_{i=1}^{N} f(x_i)$ in our case $ (b-a) \\frac{1}{N} \\sum_{i=1}^{N} sin(x_i)$ <br><br>\n",
    "Thanks to Andrew Dotson video https://www.youtube.com/watch?v=WAf0rqwAvgg"
   ]
  },
  {
   "cell_type": "code",
   "execution_count": 1,
   "metadata": {},
   "outputs": [],
   "source": [
    "import numpy as np\n",
    "import matplotlib.pyplot as plt"
   ]
  },
  {
   "cell_type": "code",
   "execution_count": 2,
   "metadata": {},
   "outputs": [],
   "source": [
    "# Limits\n",
    "a = 0 # lower\n",
    "b = np.pi # upper\n",
    "# Number of iterations (for 10K ≈ 2 sec, for 100K it takes 10*10 more time ≈ 3 minutes on my PC)\n",
    "N = 10_000\n",
    "# var to store the results\n",
    "areas =[]"
   ]
  },
  {
   "cell_type": "code",
   "execution_count": 3,
   "metadata": {},
   "outputs": [],
   "source": [
    "# This one is slighlty faster and recalls the LateX formula above; it takes about 2 seconds for 10_000\n",
    "for _ in range(N): \n",
    "    # Apply the approximation formula\n",
    "    answer = (b-a)/N * np.sin(np.random.uniform(a,b,N)).sum()\n",
    "    areas.append(answer)"
   ]
  },
  {
   "cell_type": "code",
   "execution_count": 4,
   "metadata": {},
   "outputs": [
    {
     "data": {
      "image/png": "[encoded data removed]",
      "text/plain": [
       "<Figure size 720x576 with 1 Axes>"
      ]
     },
     "metadata": {
      "needs_background": "light"
     },
     "output_type": "display_data"
    }
   ],
   "source": [
    "fig, ax = plt.subplots(figsize=(10,8))\n",
    "\n",
    "mu = np.array(areas).mean()\n",
    "sigma = np.array(areas).std()\n",
    "textstr = '\\n'.join((\n",
    "    f'$\\mu=${mu:.2f}',\n",
    "    f'$\\sigma=${sigma:.2f}' ))\n",
    "\n",
    "ax.hist(areas, bins=31, ec='b')\n",
    "# these are matplotlib.patch.Patch properties\n",
    "props = dict(boxstyle='round', facecolor='blue', alpha=0.1)\n",
    "\n",
    "# place a text box in upper left in axes coords\n",
    "ax.text(0.05, 0.95, textstr, transform=ax.transAxes, fontsize=14,\n",
    "        verticalalignment='top', bbox=props)\n",
    "plt.title(\"Distribution of calculated areas\")\n",
    "plt.xlabel(\"Areas\")\n",
    "\n",
    "plt.show()"
   ]
  },
  {
   "cell_type": "code",
   "execution_count": null,
   "metadata": {},
   "outputs": [],
   "source": []
  }
 ],
 "metadata": {
  "kernelspec": {
   "display_name": "joseml",
   "language": "python",
   "name": "joseml"
  },
  "language_info": {
   "codemirror_mode": {
    "name": "ipython",
    "version": 3
   },
   "file_extension": ".py",
   "mimetype": "text/x-python",
   "name": "python",
   "nbconvert_exporter": "python",
   "pygments_lexer": "ipython3",
   "version": "3.7.7"
  }
 },
 "nbformat": 4,
 "nbformat_minor": 4
}
